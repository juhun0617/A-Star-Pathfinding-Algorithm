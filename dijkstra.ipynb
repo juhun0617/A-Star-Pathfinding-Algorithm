{
  "cells": [
    {
      "cell_type": "markdown",
      "metadata": {
        "id": "view-in-github",
        "colab_type": "text"
      },
      "source": [
        "<a href=\"https://colab.research.google.com/github/juhun0617/A-Star-Pathfinding-Algorithm/blob/master/dijkstra.ipynb\" target=\"_parent\"><img src=\"https://colab.research.google.com/assets/colab-badge.svg\" alt=\"Open In Colab\"/></a>"
      ]
    },
    {
      "cell_type": "code",
      "execution_count": null,
      "metadata": {
        "colab": {
          "base_uri": "https://localhost:8080/"
        },
        "id": "MJOJwkttF4r0",
        "outputId": "945fe74f-da5d-4061-dfd0-4956632f17b2"
      },
      "outputs": [
        {
          "name": "stdout",
          "output_type": "stream",
          "text": [
            "노드 개수 입력\n",
            "5\n",
            "간선의 개수 입력\n",
            "7\n"
          ]
        }
      ],
      "source": [
        "print(\"노드 개수 입력\")\n",
        "node = int(input())\n",
        "print(\"간선의 개수 입력\")\n",
        "line = int(input())"
      ]
    },
    {
      "cell_type": "code",
      "execution_count": null,
      "metadata": {
        "id": "60MQdDsnGA5K"
      },
      "outputs": [],
      "source": [
        "graph = [[] for i in range(node)]"
      ]
    },
    {
      "cell_type": "code",
      "execution_count": null,
      "metadata": {
        "colab": {
          "background_save": true,
          "base_uri": "https://localhost:8080/"
        },
        "id": "DerlDAUSGDtZ",
        "outputId": "43401b42-c757-49d0-ca2b-ec0d92237cc2"
      },
      "outputs": [
        {
          "name": "stdout",
          "output_type": "stream",
          "text": [
            "에서\n",
            "로\n",
            "걸린다\n",
            "에서\n",
            "로\n",
            "걸린다\n",
            "에서\n",
            "로\n",
            "걸린다\n"
          ]
        }
      ],
      "source": [
        "count = 0\n",
        "while count < line:\n",
        "    a = int(input())\n",
        "    print(\"에서\")\n",
        "    b = int(input())\n",
        "    print(\"로\")\n",
        "    c = int(input())\n",
        "    print(\"걸린다\")\n",
        "\n",
        "    graph[a].append((b, c))\n",
        "    count = count + 1"
      ]
    },
    {
      "cell_type": "code",
      "execution_count": null,
      "metadata": {
        "id": "lo1foKIHGGW6"
      },
      "outputs": [],
      "source": [
        "visited = [0] * node\n",
        "inf = 90000000\n",
        "distance = [inf] * node"
      ]
    },
    {
      "cell_type": "code",
      "execution_count": null,
      "metadata": {
        "id": "H4JegoF4GQhT"
      },
      "outputs": [],
      "source": [
        "visited[0] = 1\n",
        "distance[0] = 0"
      ]
    },
    {
      "cell_type": "code",
      "execution_count": null,
      "metadata": {
        "id": "7J9QW0bMGZeu"
      },
      "outputs": [],
      "source": [
        "for i in graph[0]:\n",
        "    distance[i[0]] = i[1]"
      ]
    },
    {
      "cell_type": "code",
      "execution_count": null,
      "metadata": {
        "id": "_WxnG-MiHFBd"
      },
      "outputs": [],
      "source": [
        "def smallest():\n",
        "    min_distance = inf\n",
        "    min_node = 0\n",
        "    for i in range(node):\n",
        "        if visited[i] == 0 and distance[i] < min_distance:\n",
        "            min_distance = distance[i]\n",
        "            min_node = i\n",
        "    return min_node"
      ]
    },
    {
      "cell_type": "code",
      "execution_count": null,
      "metadata": {
        "id": "jQyqERS1HKaZ"
      },
      "outputs": [],
      "source": [
        "count = 0\n",
        "while count < node - 1:\n",
        "    current_node = smallest()\n",
        "    visited[current_node] = 1\n",
        "\n",
        "    for i in graph[current_node]:\n",
        "        cost = distance[current_node] + i[1]\n",
        "        if cost < distance[i[0]]:\n",
        "            distance[i[0]] = cost\n",
        "    count = count + 1"
      ]
    },
    {
      "cell_type": "code",
      "execution_count": null,
      "metadata": {
        "colab": {
          "base_uri": "https://localhost:8080/"
        },
        "id": "x9ekpVsJHvRe",
        "outputId": "17fea4c7-6214-470e-c8ff-f223e6557e93"
      },
      "outputs": [
        {
          "name": "stdout",
          "output_type": "stream",
          "text": [
            "[0, 3, 4, 5]\n"
          ]
        }
      ],
      "source": [
        "print(distance)"
      ]
    },
    {
      "cell_type": "code",
      "execution_count": null,
      "metadata": {
        "id": "Xw6eXtv8IDfL"
      },
      "outputs": [],
      "source": []
    }
  ],
  "metadata": {
    "colab": {
      "provenance": [],
      "authorship_tag": "ABX9TyMbZ9jUKo9d7y8UJTq1UnqM",
      "include_colab_link": true
    },
    "kernelspec": {
      "display_name": "Python 3",
      "name": "python3"
    },
    "language_info": {
      "name": "python"
    }
  },
  "nbformat": 4,
  "nbformat_minor": 0
}